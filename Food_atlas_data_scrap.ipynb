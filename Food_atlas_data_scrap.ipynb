{
  "nbformat": 4,
  "nbformat_minor": 0,
  "metadata": {
    "colab": {
      "provenance": [],
      "authorship_tag": "ABX9TyPdIqtGvipUcChgd9VfP6wd"
    },
    "kernelspec": {
      "name": "python3",
      "display_name": "Python 3"
    },
    "language_info": {
      "name": "python"
    }
  },
  "cells": [
    {
      "cell_type": "markdown",
      "source": [
        "# References\n",
        "- Food atlas: https://www.tasteatlas.com/algeria?ref=main-menu\n",
        "- Wikipedia National Dish: https://en.wikipedia.org/wiki/National_dish\n",
        "- Wikipedia full dish selection : https://en.wikipedia.org/wiki/Category:Cuisine_by_country"
      ],
      "metadata": {
        "id": "I3GJiXzkxjFG"
      }
    },
    {
      "cell_type": "code",
      "execution_count": null,
      "metadata": {
        "id": "YQxWnEZHxe8e"
      },
      "outputs": [],
      "source": [
        "# To update ubuntu to be able to run apt install correctly\n",
        "!apt-get update &> /dev/null"
      ]
    },
    {
      "cell_type": "code",
      "source": [
        "# Install chromium browser and web driver\n",
        "!apt-get install chromium-browser &> /dev/null\n",
        "!apt install chromium-chromedriver &> /dev/null"
      ],
      "metadata": {
        "id": "pWFmF1LMzwGJ"
      },
      "execution_count": null,
      "outputs": []
    },
    {
      "cell_type": "code",
      "source": [
        "# Install python libraries\n",
        "!pip install selenium &> /dev/null"
      ],
      "metadata": {
        "id": "39Xg9lpszxYr"
      },
      "execution_count": null,
      "outputs": []
    },
    {
      "cell_type": "code",
      "source": [
        "import os\n",
        "import time\n",
        "import uuid\n",
        "import pandas as pd\n",
        "from google.colab import files\n",
        "from google.colab import drive\n",
        "from selenium import webdriver\n",
        "from selenium.webdriver.common.by import By\n",
        "from selenium.webdriver.support.ui import WebDriverWait\n",
        "from selenium.webdriver.support import expected_conditions as EC\n",
        "from selenium.webdriver.common.action_chains import ActionChains\n",
        "from selenium.common.exceptions import NoSuchElementException\n",
        "\n",
        "drive.mount('/content/drive')"
      ],
      "metadata": {
        "id": "0SK7nLMnzzIN"
      },
      "execution_count": null,
      "outputs": []
    },
    {
      "cell_type": "code",
      "source": [
        "# Generate Unique ID for each row based on any given column\n",
        "def generate_uid(row):\n",
        "    return uuid.uuid4().hex\n",
        "\n",
        "# \"physically\" scroll to cretain attribute within a website\n",
        "def scroll_to_element(driver, element):\n",
        "    actions = ActionChains(driver)\n",
        "    actions.move_to_element(element).perform()"
      ],
      "metadata": {
        "id": "dO8vqCkc-qey"
      },
      "execution_count": null,
      "outputs": []
    },
    {
      "cell_type": "code",
      "source": [
        "# Options to disable chromium functionalities\n",
        "options = webdriver.ChromeOptions()\n",
        "options.add_argument('--verbose')\n",
        "options.add_argument('--no-sandbox')\n",
        "options.add_argument('--headless')\n",
        "options.add_argument('--disable-gpu')\n",
        "options.add_argument('--window-size=1920, 1200')\n",
        "options.add_argument('--disable-dev-shm-usage')\n",
        "driver = webdriver.Chrome(options = options)"
      ],
      "metadata": {
        "id": "oosc85wZ0TLp"
      },
      "execution_count": null,
      "outputs": []
    },
    {
      "cell_type": "markdown",
      "source": [
        "## Getting all regions and countries"
      ],
      "metadata": {
        "id": "DAz46n8l9Ac6"
      }
    },
    {
      "cell_type": "code",
      "source": [
        "home_link = \"https://www.tasteatlas.com/\"\n",
        "driver.get(home_link)\n",
        "time.sleep(2)"
      ],
      "metadata": {
        "id": "ixQX361wxp9f"
      },
      "execution_count": null,
      "outputs": []
    },
    {
      "cell_type": "code",
      "source": [
        "# Locating the destinations button to drill down and get the regions\n",
        "destinations_button = driver.find_element(By.XPATH, '/html/body/div[2]/ta-header-desktop/header/div/ta-header-bottom/div/div/div[2]/a')\n",
        "destinations_button.click()"
      ],
      "metadata": {
        "id": "VNkUxXHC62qQ"
      },
      "execution_count": null,
      "outputs": []
    },
    {
      "cell_type": "code",
      "source": [
        "# Getting all regions to loop on\n",
        "region_list = driver.find_elements(By.XPATH, '/html/body/div[2]/ta-header-desktop/header/div/ta-header-bottom/div/div[2]/div/div/div')"
      ],
      "metadata": {
        "id": "zB1Zpo7zDIPm"
      },
      "execution_count": null,
      "outputs": []
    },
    {
      "cell_type": "code",
      "source": [
        "countries_list = []\n",
        "\n",
        "# Loop through each region to store it in the countries list later on\n",
        "for region in region_list:\n",
        "    # Click on the region button\n",
        "    region_name = region.text\n",
        "    print(region_name,\"=\"*10,\"ok\")\n",
        "    region.click()\n",
        "    time.sleep(2)\n",
        "    # Get the countries in the region\n",
        "    country_list = driver.find_elements(By.XPATH, '//div[@class=\"submenu-item flex ng-scope\"]/a[@class=\"submenu-item--name ng-binding\"]')\n",
        "\n",
        "    for country in country_list:\n",
        "      country_url = country.get_attribute('href')\n",
        "      country_name = country.text\n",
        "      #print(country_name, country_url)\n",
        "\n",
        "      countries_list.append({'Region': region_name,\n",
        "                             'Country': country_name,\n",
        "                             'Country_URL': country_url})\n",
        "#Adding some countries that the website dont list on the main menu\n",
        "missing_countries = [\n",
        "    {\"Region\": \"Central America\", \"Country\": \"Panama\", \"Country_URL\": \"https://www.tasteatlas.com/panama?ref=main-menu\"},\n",
        "    {\"Region\": \"Central America\", \"Country\": \"Costa Rica\", \"Country_URL\": \"https://www.tasteatlas.com/costa-rica?ref=main-menu\"},\n",
        "    {\"Region\": \"Central America\", \"Country\": \"Nicaragua\", \"Country_URL\": \"https://www.tasteatlas.com/nicaragua?ref=main-menu\"},\n",
        "    {\"Region\": \"Central America\", \"Country\": \"Honduras\", \"Country_URL\": \"https://www.tasteatlas.com/honduras?ref=main-menu\"},\n",
        "    {\"Region\": \"Central America\", \"Country\": \"El Salvador\", \"Country_URL\": \"https://www.tasteatlas.com/el-salvador?ref=main-menu\"},\n",
        "    {\"Region\": \"Central America\", \"Country\": \"Guatemala\", \"Country_URL\": \"https://www.tasteatlas.com/guatemala?ref=main-menu\"},\n",
        "    {\"Region\": \"Central America\", \"Country\": \"Belize\", \"Country_URL\": \"https://www.tasteatlas.com/belize?ref=main-menu\"},\n",
        "    {\"Region\": \"South America\", \"Country\": \"French Guiana\", \"Country_URL\": \"https://www.tasteatlas.com/french-guiana?ref=main-menu\"},\n",
        "    {\"Region\": \"South America\", \"Country\": \"Falkland Islands\", \"Country_URL\": \"https://www.tasteatlas.com/falkland-islands?ref=main-menu\"},\n",
        "]\n",
        "\n",
        "full_countries_list = countries_list + missing_countries\n",
        "\n",
        "country_dataset = pd.DataFrame(full_countries_list)\n",
        "country_dataset['UID'] = country_dataset.apply(lambda row: generate_uid(row), axis=1)\n",
        "\n",
        "filename = 'countries'\n",
        "country_dataset.to_json(f'/content/drive/My Drive/data scrap/foodpy/json/{filename}.json', orient='records', lines=True)\n",
        "country_dataset.to_csv(f'/content/drive/My Drive/data scrap/foodpy/csv/{filename}.csv', index=False)\n",
        "country_dataset.to_excel(f'/content/drive/My Drive/data scrap/foodpy/xlsx/{filename}.xlsx', index=False)"
      ],
      "metadata": {
        "id": "nJBSLmBgCX5S"
      },
      "execution_count": null,
      "outputs": []
    },
    {
      "cell_type": "markdown",
      "source": [
        "## Getting all contents for the countries"
      ],
      "metadata": {
        "id": "cppd4vvTgduR"
      }
    },
    {
      "cell_type": "code",
      "source": [
        "# Collect data for each country\n",
        "country_fail = []\n",
        "\n",
        "# Creating a loop based on the countries dataset scraped above\n",
        "for index, country in country_datase_test.iterrows():\n",
        "    country_id = country['UID']\n",
        "    country_name = country['Country']\n",
        "    country_link = country['Country_URL']\n",
        "    print(\"=\"*100, country_name)\n",
        "\n",
        "    # Getting the country page\n",
        "    driver.get(country_link)\n",
        "\n",
        "    # Getting the containers within the country (Dish, Food items, Drinks) to create types later on\n",
        "    try:\n",
        "        containers = WebDriverWait(driver, 10).until(\n",
        "            EC.presence_of_all_elements_located((By.XPATH, '//div[@class=\"search-results__whattoeat-content ta-parent-section ng-scope\"]'))\n",
        "        )\n",
        "    except Exception as e:\n",
        "        print(f\"Error: {e}\")\n",
        "\n",
        "    container_contents = []\n",
        "\n",
        "    # Iterating the containers to get all the items inside\n",
        "    try:\n",
        "      for container in containers:\n",
        "          container_name_raw = container.find_elements(By.XPATH, './/h2[@class=\"h2 h2--lowercase h2--muli h2--large search-results__whattoeat-content-title ng-binding ng-scope\"]')[0].text.strip()\n",
        "          container_name = container_name_raw.split()[-1]\n",
        "          print(\"=\"*50, container_name)\n",
        "\n",
        "          # First of all checking if there is a \"SHOW MORE\" button, then clicking it to get the full list of items\n",
        "          click_count = 0\n",
        "          while True:\n",
        "              try:\n",
        "                  view_more_button = container.find_element(By.XPATH, './/button[contains(@class, \"btn--underscore\") and contains(text(), \"VIEW MORE\")]')\n",
        "                  # Scrolling to the button because \"what you don't see doesn't exist\"\n",
        "                  scroll_to_element(driver, view_more_button)\n",
        "                  click_count += 1\n",
        "                  print(\"=\"*25, f\"click button {click_count} times\")\n",
        "                  view_more_button.click()\n",
        "                  time.sleep(2)\n",
        "\n",
        "              except Exception as e:\n",
        "                  break\n",
        "\n",
        "          contents = container.find_elements(By.XPATH, './/h2[@class=\"h2 h2--bold h2--lowercase\"]/a[@class=\"ng-binding\"]')\n",
        "\n",
        "          # Iterating thru the contents to create a nice list that will be the base to create the country contents dataframe\n",
        "          for content in contents:\n",
        "              content_text = content.text\n",
        "              print(content_text)\n",
        "              content_url = content.get_attribute('href')\n",
        "\n",
        "              container_contents.append({'type': container_name,\n",
        "                                      'name': content_text,\n",
        "                                      'url': content_url})\n",
        "    except Exception as e:\n",
        "        print(f\"=\"*200, f\"{country_name} failed\")\n",
        "        country_fail.append(country_name)\n",
        "\n",
        "    content_details = []\n",
        "\n",
        "    for country_content_page in container_contents:\n",
        "      content_name = country_content_page['name']\n",
        "      content_url = country_content_page['url']\n",
        "      print(content_name, content_url)\n",
        "\n",
        "      driver.get(content_url)\n",
        "      time.sleep(1)\n",
        "\n",
        "      ### Multiple try/except\n",
        "      try:\n",
        "        image = driver.find_element(By.XPATH, '//div[@class=\"card__hero card__hero--food ng-scope\"]//div[@class=\"swiper-slide ng-scope swiper-slide-active\"]//img[@class=\"img\"]').get_attribute('src')\n",
        "      except NoSuchElementException:\n",
        "        try:\n",
        "          image = driver.find_element(By.XPATH, '//div[@class=\"card__hero card__hero--food ng-scope\"]//div[@class=\"swiper-slide ng-scope\"]//img[@class=\"img\"]').get_attribute('src')\n",
        "        except:\n",
        "          image = None\n",
        "\n",
        "      name = content_name\n",
        "\n",
        "      try:\n",
        "        other_name = driver.find_element(By.XPATH, '//h4[@class=\"h4 ng-binding ng-scope\"]').text\n",
        "      except:\n",
        "        other_name = None\n",
        "\n",
        "      categories_elements = driver.find_elements(By.XPATH, '//div[@class=\"group\"]//span/a')\n",
        "      categories = [category.text for category in categories_elements]\n",
        "\n",
        "      country_flag = driver.find_element(By.XPATH, '//div[@class=\"right ng-scope\"]//div[@class=\"emblem\"]//img').get_attribute('src')\n",
        "\n",
        "      try:\n",
        "        readmore_btn = driver.find_element(By.XPATH, '//span[@class=\"read-more\"]')\n",
        "        scroll_to_element(driver, readmore_btn)\n",
        "        readmore_btn.click()\n",
        "        time.sleep(2)\n",
        "      except:\n",
        "        pass\n",
        "\n",
        "      description = driver.find_element(By.XPATH, '//div[@class=\"text ng-scope ng-isolate-scope\"]').text\n",
        "\n",
        "      ingredients_elements = driver.find_elements(By.XPATH, '//div[@class=\"food-ingredients food-ingredients--scroll\"]//li')\n",
        "      ingredients = [ingredient.text for ingredient in ingredients_elements]\n",
        "\n",
        "      ingredients_img_elements = driver.find_elements(By.XPATH, '//div[@class=\"food-ingredients food-ingredients--scroll\"]//li//img[@class=\"food-ingredients__image\"]')\n",
        "      ingredients_img = [ingredient_img.get_attribute('src') for ingredient_img in ingredients_img_elements]\n",
        "\n",
        "      combined_ingredients = [{'name': name, 'image_url': img_url} for name, img_url in zip(ingredients, ingredients_img)]\n",
        "\n",
        "      try:\n",
        "        rating_container = driver.find_element(By.XPATH, '//div[@class=\"rating-section__container\"]')\n",
        "        scroll_to_element(driver, rating_container)\n",
        "\n",
        "        stars = rating_container.find_element(By.XPATH, '//div[@class=\"rating-card__review-main\"]').text\n",
        "        if stars.upper == 'N/A':\n",
        "          stars = None\n",
        "        likes = rating_container.find_elements(By.XPATH, '//div[@class=\"rating-card__review-likes\"]//span[@class=\"rating-card__review-likes-rating ng-binding\"]')[0].text.strip('%')\n",
        "        indiferent = rating_container.find_elements(By.XPATH, '//div[@class=\"rating-card__review-likes\"]//span[@class=\"rating-card__review-likes-rating ng-binding\"]')[1].text.strip('%')\n",
        "        dont_like = rating_container.find_elements(By.XPATH, '//div[@class=\"rating-card__review-likes\"]//span[@class=\"rating-card__review-likes-rating ng-binding\"]')[2].text.strip('%')\n",
        "      except:\n",
        "        stars = None\n",
        "        likes = None\n",
        "        indiferent = None\n",
        "        dont_like = None\n",
        "\n",
        "      content_details.append({'name': name,\n",
        "                              'other_name': other_name,\n",
        "                              'image': image,\n",
        "                              'categories': categories,\n",
        "                              'country_flag': country_flag,\n",
        "                              'country_id': country_id,\n",
        "                              'description': description,\n",
        "                              'ingredients': combined_ingredients,\n",
        "                              \"rating_stars\": stars,\n",
        "                              \"rating_likes\": likes,\n",
        "                              \"rating_indiferent\": indiferent,\n",
        "                              \"rating_dont_like\": dont_like,\n",
        "                              \"content_url\": content_url\n",
        "                              })\n",
        "\n",
        "    # Creating the dataframe out of the list\n",
        "    content_details_dataset = pd.DataFrame(content_details)\n",
        "\n",
        "    filename = f'{country_name}_details'\n",
        "\n",
        "    content_details_dataset.to_json(f'/content/drive/My Drive/data scrap/foodpy/json/{filename}.json', orient='records', lines=True)\n",
        "    content_details_dataset.to_csv(f'/content/drive/My Drive/data scrap/foodpy/csv/{filename}.csv', index=False)\n",
        "    content_details_dataset.to_excel(f'/content/drive/My Drive/data scrap/foodpy/xlsx/{filename}.xlsx', index=False)\n",
        "    print(\"=\"*150)\n",
        "    print(\"=\"*150,\"FILES SAVED TO G-DRIVE\")\n",
        "    print(\"=\"*150)"
      ],
      "metadata": {
        "id": "5LRPo8ozIkaX"
      },
      "execution_count": null,
      "outputs": []
    }
  ]
}