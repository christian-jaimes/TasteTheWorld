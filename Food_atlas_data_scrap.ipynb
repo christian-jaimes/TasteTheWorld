{
  "nbformat": 4,
  "nbformat_minor": 0,
  "metadata": {
    "colab": {
      "provenance": [],
      "authorship_tag": "ABX9TyOVEfd5UVfeYzPYaQPPM6Db",
      "include_colab_link": true
    },
    "kernelspec": {
      "name": "python3",
      "display_name": "Python 3"
    },
    "language_info": {
      "name": "python"
    }
  },
  "cells": [
    {
      "cell_type": "markdown",
      "metadata": {
        "id": "view-in-github",
        "colab_type": "text"
      },
      "source": [
        "<a href=\"https://colab.research.google.com/github/christian-jaimes/TasteTheWorld/blob/main/Food_atlas_data_scrap.ipynb\" target=\"_parent\"><img src=\"https://colab.research.google.com/assets/colab-badge.svg\" alt=\"Open In Colab\"/></a>"
      ]
    },
    {
      "cell_type": "markdown",
      "source": [
        "# References\n",
        "- Food atlas: https://www.tasteatlas.com/algeria?ref=main-menu\n",
        "- Wikipedia National Dish: https://en.wikipedia.org/wiki/National_dish\n",
        "- Wikipedia full dish selection : https://en.wikipedia.org/wiki/Category:Cuisine_by_country\n",
        "- Nations online: https://www.nationsonline.org/oneworld/countries_of_the_world.htm\n"
      ],
      "metadata": {
        "id": "I3GJiXzkxjFG"
      }
    },
    {
      "cell_type": "code",
      "execution_count": 1,
      "metadata": {
        "id": "YQxWnEZHxe8e"
      },
      "outputs": [],
      "source": [
        "# To update ubuntu to be able to run apt install correctly\n",
        "!apt-get update &> /dev/null"
      ]
    },
    {
      "cell_type": "code",
      "source": [
        "# Install chromium browser and web driver\n",
        "!apt-get install chromium-browser &> /dev/null\n",
        "!apt install chromium-chromedriver &> /dev/null"
      ],
      "metadata": {
        "id": "pWFmF1LMzwGJ"
      },
      "execution_count": 2,
      "outputs": []
    },
    {
      "cell_type": "code",
      "source": [
        "# Install python libraries\n",
        "!pip install selenium &> /dev/null"
      ],
      "metadata": {
        "id": "39Xg9lpszxYr"
      },
      "execution_count": 3,
      "outputs": []
    },
    {
      "cell_type": "code",
      "source": [
        "import os\n",
        "import time\n",
        "import uuid\n",
        "import pandas as pd\n",
        "from selenium import webdriver\n",
        "from selenium.webdriver.common.by import By\n",
        "from selenium.webdriver.support.ui import WebDriverWait\n",
        "from selenium.webdriver.support import expected_conditions as EC\n",
        "from selenium.webdriver.common.action_chains import ActionChains"
      ],
      "metadata": {
        "id": "0SK7nLMnzzIN"
      },
      "execution_count": 38,
      "outputs": []
    },
    {
      "cell_type": "code",
      "source": [
        "# Generate Unique ID for each row based on any given column\n",
        "def generate_uid(row):\n",
        "    return uuid.uuid4().hex\n",
        "\n",
        "# \"Phisically\" scroll to cretain attribute within a website\n",
        "def scroll_to_element(driver, element):\n",
        "    actions = ActionChains(driver)\n",
        "    actions.move_to_element(element).perform()"
      ],
      "metadata": {
        "id": "dO8vqCkc-qey"
      },
      "execution_count": 40,
      "outputs": []
    },
    {
      "cell_type": "code",
      "source": [
        "# Options to disable chromium functionalities\n",
        "options = webdriver.ChromeOptions()\n",
        "options.add_argument('--verbose')\n",
        "options.add_argument('--no-sandbox')\n",
        "options.add_argument('--headless')\n",
        "options.add_argument('--disable-gpu')\n",
        "options.add_argument('--window-size=1920, 1200')\n",
        "options.add_argument('--disable-dev-shm-usage')\n",
        "driver = webdriver.Chrome(options = options)"
      ],
      "metadata": {
        "id": "oosc85wZ0TLp"
      },
      "execution_count": 41,
      "outputs": []
    },
    {
      "cell_type": "markdown",
      "source": [
        "## Getting all regions and countries"
      ],
      "metadata": {
        "id": "DAz46n8l9Ac6"
      }
    },
    {
      "cell_type": "code",
      "source": [
        "home_link = \"https://www.tasteatlas.com/\"\n",
        "driver.get(home_link)\n",
        "time.sleep(2)"
      ],
      "metadata": {
        "id": "ixQX361wxp9f"
      },
      "execution_count": 42,
      "outputs": []
    },
    {
      "cell_type": "code",
      "source": [
        "# Locating the destinations button to drill down and get the regions\n",
        "destinations_button = driver.find_element(By.XPATH, '/html/body/div[2]/ta-header-desktop/header/div/ta-header-bottom/div/div/div[2]/a')\n",
        "destinations_button.click()"
      ],
      "metadata": {
        "id": "VNkUxXHC62qQ"
      },
      "execution_count": 43,
      "outputs": []
    },
    {
      "cell_type": "code",
      "source": [
        "# Getting all regions to loop on\n",
        "region_list = driver.find_elements(By.XPATH, '/html/body/div[2]/ta-header-desktop/header/div/ta-header-bottom/div/div[2]/div/div/div')"
      ],
      "metadata": {
        "id": "zB1Zpo7zDIPm"
      },
      "execution_count": 44,
      "outputs": []
    },
    {
      "cell_type": "code",
      "source": [
        "countries_list = []\n",
        "# Loop through each region to store it in the countries list later on\n",
        "for region in region_list:\n",
        "    # Click on the region button\n",
        "    region_name = region.text\n",
        "    print(region_name,\"=\"*10,\"ok\")\n",
        "    region.click()\n",
        "    time.sleep(2)\n",
        "    # Get the countries in the region\n",
        "    country_list = driver.find_elements(By.XPATH, '//div[@class=\"submenu-item flex ng-scope\"]/a[@class=\"submenu-item--name ng-binding\"]')\n",
        "\n",
        "    for country in country_list:\n",
        "      country_url = country.get_attribute('href')\n",
        "      country_name = country.text\n",
        "      #print(country_name, country_url)\n",
        "\n",
        "      countries_list.append({'Region': region_name,\n",
        "                             'Country': country_name,\n",
        "                             'Country_URL': country_url})\n",
        "\n",
        "country_dataset = pd.DataFrame(countries_list)\n",
        "country_dataset['UID'] = country_dataset.apply(lambda row: generate_uid(row), axis=1)"
      ],
      "metadata": {
        "id": "nJBSLmBgCX5S"
      },
      "execution_count": null,
      "outputs": []
    },
    {
      "cell_type": "markdown",
      "source": [
        "## Getting all contents for the countries"
      ],
      "metadata": {
        "id": "cppd4vvTgduR"
      }
    },
    {
      "cell_type": "code",
      "source": [
        "#### For testing\n",
        "#country_dataset = country_dataset[:1]\n",
        "#country_dataset = country_dataset[::-1]\n",
        "#country_dataset"
      ],
      "metadata": {
        "id": "woVGzNiSBDUU"
      },
      "execution_count": 12,
      "outputs": []
    },
    {
      "cell_type": "code",
      "source": [
        "# Collect data for each country\n",
        "country_contents = []\n",
        "country_fail = []\n",
        "\n",
        "# Creating a loop based on the countries dataset scraped above\n",
        "for index, country in country_dataset.iterrows():\n",
        "    country_id = country['UID']\n",
        "    country_name = country['Country']\n",
        "    country_link = country['Country_URL']\n",
        "    print(\"=\"*100, country_name)\n",
        "\n",
        "    # Getting the country page\n",
        "    driver.get(country_link)\n",
        "\n",
        "    # Getting the containers within the country (Dish, Food items, Drinks) to create types later on\n",
        "    try:\n",
        "        containers = WebDriverWait(driver, 10).until(\n",
        "            EC.presence_of_all_elements_located((By.XPATH, '//div[@class=\"search-results__whattoeat-content ta-parent-section ng-scope\"]'))\n",
        "        )\n",
        "    except Exception as e:\n",
        "        print(f\"Error: {e}\")\n",
        "\n",
        "    # Iterating the containers to get all the items inside\n",
        "    try:\n",
        "      for container in containers:\n",
        "          container_name = container.find_elements(By.XPATH, './/h2[@class=\"h2 h2--lowercase h2--muli h2--large search-results__whattoeat-content-title ng-binding ng-scope\"]')[0].text.strip()\n",
        "          container_name = ' '.join(container_name.split(' ')[3:])\n",
        "          print(\"=\"*50, container_name)\n",
        "\n",
        "          # First of all checking if there is a \"SHOW MORE\" button, then clicking it to get the full list of items\n",
        "          click_count = 0\n",
        "          while True:\n",
        "              try:\n",
        "                  view_more_button = container.find_element(By.XPATH, './/button[contains(@class, \"btn--underscore\") and contains(text(), \"VIEW MORE\")]')\n",
        "                  # Scrolling to the button because \"what you don't see doesn't exist\"\n",
        "                  scroll_to_element(driver, view_more_button)\n",
        "                  click_count += 1\n",
        "                  print(\"=\"*25, f\"click button {click_count} times\")\n",
        "                  view_more_button.click()\n",
        "                  time.sleep(2)\n",
        "\n",
        "              except Exception as e:\n",
        "                  break\n",
        "\n",
        "          contents = container.find_elements(By.XPATH, './/h2[@class=\"h2 h2--bold h2--lowercase\"]/a[@class=\"ng-binding\"]')\n",
        "\n",
        "          # Iterating thru the contents to create a nice list that will be the base to create the country contents dataframe\n",
        "          for content in contents:\n",
        "              content_text = content.text\n",
        "              print(content_text)\n",
        "              content_url = content.get_attribute('href')\n",
        "\n",
        "              country_contents.append({'type': container_name,\n",
        "                                      'name': content_text,\n",
        "                                      'url': content_url,\n",
        "                                      \"country_id\": country_id})\n",
        "\n",
        "    except Exception as e:\n",
        "        print(f\"=\"*200, f\"{country_name} failed\")\n",
        "        country_fail.append(country_name)\n",
        "\n",
        "# Creating the dataframe out of the list and adding a unique id for the different dishes\n",
        "country_contents_dataset = pd.DataFrame(country_contents)\n",
        "country_contents_dataset['dish_id'] = country_contents_dataset.apply(lambda row: generate_uid(row), axis=1)"
      ],
      "metadata": {
        "id": "5LRPo8ozIkaX"
      },
      "execution_count": null,
      "outputs": []
    },
    {
      "cell_type": "code",
      "source": [
        "from google.colab import files\n",
        "\n",
        "filename = 'country_contents_dataset'\n",
        "country_contents_dataset.to_excel(f'{filename}.xlsx', index=False)\n",
        "files.download(f'{filename}.xlsx')\n",
        "country_contents_dataset.to_csv(f'{filename}.csv', index=False)\n",
        "files.download(f'{filename}.csv')"
      ],
      "metadata": {
        "colab": {
          "base_uri": "https://localhost:8080/",
          "height": 17
        },
        "id": "S1stQbDfWwJm",
        "outputId": "02654a2f-a108-4035-adb9-9fafc5b67e7f"
      },
      "execution_count": 57,
      "outputs": [
        {
          "output_type": "display_data",
          "data": {
            "text/plain": [
              "<IPython.core.display.Javascript object>"
            ],
            "application/javascript": [
              "\n",
              "    async function download(id, filename, size) {\n",
              "      if (!google.colab.kernel.accessAllowed) {\n",
              "        return;\n",
              "      }\n",
              "      const div = document.createElement('div');\n",
              "      const label = document.createElement('label');\n",
              "      label.textContent = `Downloading \"${filename}\": `;\n",
              "      div.appendChild(label);\n",
              "      const progress = document.createElement('progress');\n",
              "      progress.max = size;\n",
              "      div.appendChild(progress);\n",
              "      document.body.appendChild(div);\n",
              "\n",
              "      const buffers = [];\n",
              "      let downloaded = 0;\n",
              "\n",
              "      const channel = await google.colab.kernel.comms.open(id);\n",
              "      // Send a message to notify the kernel that we're ready.\n",
              "      channel.send({})\n",
              "\n",
              "      for await (const message of channel.messages) {\n",
              "        // Send a message to notify the kernel that we're ready.\n",
              "        channel.send({})\n",
              "        if (message.buffers) {\n",
              "          for (const buffer of message.buffers) {\n",
              "            buffers.push(buffer);\n",
              "            downloaded += buffer.byteLength;\n",
              "            progress.value = downloaded;\n",
              "          }\n",
              "        }\n",
              "      }\n",
              "      const blob = new Blob(buffers, {type: 'application/binary'});\n",
              "      const a = document.createElement('a');\n",
              "      a.href = window.URL.createObjectURL(blob);\n",
              "      a.download = filename;\n",
              "      div.appendChild(a);\n",
              "      a.click();\n",
              "      div.remove();\n",
              "    }\n",
              "  "
            ]
          },
          "metadata": {}
        },
        {
          "output_type": "display_data",
          "data": {
            "text/plain": [
              "<IPython.core.display.Javascript object>"
            ],
            "application/javascript": [
              "download(\"download_25223450-9689-498a-9a86-3bfd5c767a23\", \"country_contents_dataset.xlsx\", 1033165)"
            ]
          },
          "metadata": {}
        },
        {
          "output_type": "display_data",
          "data": {
            "text/plain": [
              "<IPython.core.display.Javascript object>"
            ],
            "application/javascript": [
              "\n",
              "    async function download(id, filename, size) {\n",
              "      if (!google.colab.kernel.accessAllowed) {\n",
              "        return;\n",
              "      }\n",
              "      const div = document.createElement('div');\n",
              "      const label = document.createElement('label');\n",
              "      label.textContent = `Downloading \"${filename}\": `;\n",
              "      div.appendChild(label);\n",
              "      const progress = document.createElement('progress');\n",
              "      progress.max = size;\n",
              "      div.appendChild(progress);\n",
              "      document.body.appendChild(div);\n",
              "\n",
              "      const buffers = [];\n",
              "      let downloaded = 0;\n",
              "\n",
              "      const channel = await google.colab.kernel.comms.open(id);\n",
              "      // Send a message to notify the kernel that we're ready.\n",
              "      channel.send({})\n",
              "\n",
              "      for await (const message of channel.messages) {\n",
              "        // Send a message to notify the kernel that we're ready.\n",
              "        channel.send({})\n",
              "        if (message.buffers) {\n",
              "          for (const buffer of message.buffers) {\n",
              "            buffers.push(buffer);\n",
              "            downloaded += buffer.byteLength;\n",
              "            progress.value = downloaded;\n",
              "          }\n",
              "        }\n",
              "      }\n",
              "      const blob = new Blob(buffers, {type: 'application/binary'});\n",
              "      const a = document.createElement('a');\n",
              "      a.href = window.URL.createObjectURL(blob);\n",
              "      a.download = filename;\n",
              "      div.appendChild(a);\n",
              "      a.click();\n",
              "      div.remove();\n",
              "    }\n",
              "  "
            ]
          },
          "metadata": {}
        },
        {
          "output_type": "display_data",
          "data": {
            "text/plain": [
              "<IPython.core.display.Javascript object>"
            ],
            "application/javascript": [
              "download(\"download_07862fd4-3644-4487-826d-5461d4a30a7d\", \"country_contents_dataset.csv\", 2359158)"
            ]
          },
          "metadata": {}
        }
      ]
    }
  ]
}