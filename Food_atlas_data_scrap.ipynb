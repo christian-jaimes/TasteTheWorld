{
  "nbformat": 4,
  "nbformat_minor": 0,
  "metadata": {
    "colab": {
      "provenance": []
    },
    "kernelspec": {
      "name": "python3",
      "display_name": "Python 3"
    },
    "language_info": {
      "name": "python"
    }
  },
  "cells": [
    {
      "cell_type": "markdown",
      "source": [
        "# References\n",
        "- Food atlas: https://www.tasteatlas.com/algeria?ref=main-menu\n",
        "- Wikipedia National Dish: https://en.wikipedia.org/wiki/National_dish\n",
        "- Wikipedia full dish selection : https://en.wikipedia.org/wiki/Category:Cuisine_by_country\n",
        "\n"
      ],
      "metadata": {
        "id": "I3GJiXzkxjFG"
      }
    },
    {
      "cell_type": "code",
      "execution_count": null,
      "metadata": {
        "id": "YQxWnEZHxe8e"
      },
      "outputs": [],
      "source": [
        "# To update ubuntu to be able to run apt install correctly\n",
        "!apt-get update &> /dev/null"
      ]
    },
    {
      "cell_type": "code",
      "source": [
        "# Install chromium browser and web driver\n",
        "!apt-get install chromium-browser &> /dev/null\n",
        "!apt install chromium-chromedriver &> /dev/null"
      ],
      "metadata": {
        "id": "pWFmF1LMzwGJ"
      },
      "execution_count": null,
      "outputs": []
    },
    {
      "cell_type": "code",
      "source": [
        "# Install python libraries\n",
        "!pip install selenium &> /dev/null"
      ],
      "metadata": {
        "id": "39Xg9lpszxYr"
      },
      "execution_count": null,
      "outputs": []
    },
    {
      "cell_type": "code",
      "source": [
        "import os\n",
        "import time\n",
        "import uuid\n",
        "import pandas as pd\n",
        "from selenium import webdriver\n",
        "from selenium.webdriver.common.by import By\n",
        "from selenium.webdriver.support.ui import WebDriverWait\n",
        "from selenium.webdriver.support import expected_conditions as EC"
      ],
      "metadata": {
        "id": "0SK7nLMnzzIN"
      },
      "execution_count": null,
      "outputs": []
    },
    {
      "cell_type": "code",
      "source": [
        "def generate_uid(row):\n",
        "    # Generate UUID for each row based on 'Country' column (or any other column you choose)\n",
        "    return uuid.uuid4().hex"
      ],
      "metadata": {
        "id": "dO8vqCkc-qey"
      },
      "execution_count": null,
      "outputs": []
    },
    {
      "cell_type": "code",
      "source": [
        "# Options to disable chromium functionalities\n",
        "options = webdriver.ChromeOptions()\n",
        "options.add_argument('--verbose')\n",
        "options.add_argument('--no-sandbox')\n",
        "options.add_argument('--headless')\n",
        "options.add_argument('--disable-gpu')\n",
        "options.add_argument('--window-size=1920, 1200')\n",
        "options.add_argument('--disable-dev-shm-usage')\n",
        "driver = webdriver.Chrome(options = options)"
      ],
      "metadata": {
        "id": "oosc85wZ0TLp"
      },
      "execution_count": null,
      "outputs": []
    },
    {
      "cell_type": "markdown",
      "source": [
        "## Getting all regions and countries"
      ],
      "metadata": {
        "id": "DAz46n8l9Ac6"
      }
    },
    {
      "cell_type": "code",
      "source": [
        "home_link = \"https://www.tasteatlas.com/\"\n",
        "driver.get(home_link)\n",
        "time.sleep(2)"
      ],
      "metadata": {
        "id": "ixQX361wxp9f"
      },
      "execution_count": null,
      "outputs": []
    },
    {
      "cell_type": "code",
      "source": [
        "# Locating the destinations button to drill down and get the regions\n",
        "destinations_button = driver.find_element(By.XPATH, '/html/body/div[2]/ta-header-desktop/header/div/ta-header-bottom/div/div/div[2]/a')\n",
        "destinations_button.click()"
      ],
      "metadata": {
        "id": "VNkUxXHC62qQ"
      },
      "execution_count": null,
      "outputs": []
    },
    {
      "cell_type": "code",
      "source": [
        "# Getting all regions to loop on\n",
        "region_list = driver.find_elements(By.XPATH, '/html/body/div[2]/ta-header-desktop/header/div/ta-header-bottom/div/div[2]/div/div/div')"
      ],
      "metadata": {
        "id": "zB1Zpo7zDIPm"
      },
      "execution_count": null,
      "outputs": []
    },
    {
      "cell_type": "code",
      "source": [
        "countries_list = []\n",
        "# Loop through each region to store it in the countries list later on\n",
        "for region in region_list:\n",
        "    # Click on the region button\n",
        "    region_name = region.text\n",
        "    print(region_name,\"=\"*10,\"ok\")\n",
        "    region.click()\n",
        "    time.sleep(2)\n",
        "    # Get the countries in the region\n",
        "    country_list = driver.find_elements(By.XPATH, '//div[@class=\"submenu-item flex ng-scope\"]/a[@class=\"submenu-item--name ng-binding\"]')\n",
        "\n",
        "    for country in country_list:\n",
        "      country_url = country.get_attribute('href')\n",
        "      country_name = country.text\n",
        "      #print(country_name, country_url)\n",
        "\n",
        "      countries_list.append({'Region': region_name,\n",
        "                             'Country': country_name,\n",
        "                             'Country_URL': country_url})\n",
        "\n",
        "country_dataset = pd.DataFrame(countries_list)\n",
        "country_dataset['UID'] = country_dataset.apply(lambda row: generate_uid(row), axis=1)"
      ],
      "metadata": {
        "colab": {
          "base_uri": "https://localhost:8080/"
        },
        "id": "nJBSLmBgCX5S",
        "outputId": "e5456db2-6443-4e16-be4c-58e272dd8d3c"
      },
      "execution_count": null,
      "outputs": [
        {
          "output_type": "stream",
          "name": "stdout",
          "text": [
            "Africa ========== ok\n",
            "Asia ========== ok\n",
            "Australia ========== ok\n",
            "Europe ========== ok\n",
            "North America ========== ok\n",
            "South America ========== ok\n"
          ]
        }
      ]
    },
    {
      "cell_type": "markdown",
      "source": [
        "## Getting all contents for the countries"
      ],
      "metadata": {
        "id": "cppd4vvTgduR"
      }
    },
    {
      "cell_type": "code",
      "source": [
        "country_dataset = country_dataset[:1]"
      ],
      "metadata": {
        "id": "woVGzNiSBDUU"
      },
      "execution_count": null,
      "outputs": []
    },
    {
      "cell_type": "code",
      "source": [
        "country_dataset"
      ],
      "metadata": {
        "colab": {
          "base_uri": "https://localhost:8080/",
          "height": 89
        },
        "id": "LsWKjQFODvFs",
        "outputId": "20579ad2-4822-4793-86f6-e23501c339b9"
      },
      "execution_count": null,
      "outputs": [
        {
          "output_type": "execute_result",
          "data": {
            "text/plain": [
              "   Region  Country                                       Country_URL  \\\n",
              "0  Africa  Algeria  https://www.tasteatlas.com/algeria?ref=main-menu   \n",
              "\n",
              "                                UID  \n",
              "0  623dc4e163f046e39f3b758613458e6b  "
            ],
            "text/html": [
              "\n",
              "  <div id=\"df-eb40b5ea-a7c2-46d0-9721-a1345193eab1\" class=\"colab-df-container\">\n",
              "    <div>\n",
              "<style scoped>\n",
              "    .dataframe tbody tr th:only-of-type {\n",
              "        vertical-align: middle;\n",
              "    }\n",
              "\n",
              "    .dataframe tbody tr th {\n",
              "        vertical-align: top;\n",
              "    }\n",
              "\n",
              "    .dataframe thead th {\n",
              "        text-align: right;\n",
              "    }\n",
              "</style>\n",
              "<table border=\"1\" class=\"dataframe\">\n",
              "  <thead>\n",
              "    <tr style=\"text-align: right;\">\n",
              "      <th></th>\n",
              "      <th>Region</th>\n",
              "      <th>Country</th>\n",
              "      <th>Country_URL</th>\n",
              "      <th>UID</th>\n",
              "    </tr>\n",
              "  </thead>\n",
              "  <tbody>\n",
              "    <tr>\n",
              "      <th>0</th>\n",
              "      <td>Africa</td>\n",
              "      <td>Algeria</td>\n",
              "      <td>https://www.tasteatlas.com/algeria?ref=main-menu</td>\n",
              "      <td>623dc4e163f046e39f3b758613458e6b</td>\n",
              "    </tr>\n",
              "  </tbody>\n",
              "</table>\n",
              "</div>\n",
              "    <div class=\"colab-df-buttons\">\n",
              "\n",
              "  <div class=\"colab-df-container\">\n",
              "    <button class=\"colab-df-convert\" onclick=\"convertToInteractive('df-eb40b5ea-a7c2-46d0-9721-a1345193eab1')\"\n",
              "            title=\"Convert this dataframe to an interactive table.\"\n",
              "            style=\"display:none;\">\n",
              "\n",
              "  <svg xmlns=\"http://www.w3.org/2000/svg\" height=\"24px\" viewBox=\"0 -960 960 960\">\n",
              "    <path d=\"M120-120v-720h720v720H120Zm60-500h600v-160H180v160Zm220 220h160v-160H400v160Zm0 220h160v-160H400v160ZM180-400h160v-160H180v160Zm440 0h160v-160H620v160ZM180-180h160v-160H180v160Zm440 0h160v-160H620v160Z\"/>\n",
              "  </svg>\n",
              "    </button>\n",
              "\n",
              "  <style>\n",
              "    .colab-df-container {\n",
              "      display:flex;\n",
              "      gap: 12px;\n",
              "    }\n",
              "\n",
              "    .colab-df-convert {\n",
              "      background-color: #E8F0FE;\n",
              "      border: none;\n",
              "      border-radius: 50%;\n",
              "      cursor: pointer;\n",
              "      display: none;\n",
              "      fill: #1967D2;\n",
              "      height: 32px;\n",
              "      padding: 0 0 0 0;\n",
              "      width: 32px;\n",
              "    }\n",
              "\n",
              "    .colab-df-convert:hover {\n",
              "      background-color: #E2EBFA;\n",
              "      box-shadow: 0px 1px 2px rgba(60, 64, 67, 0.3), 0px 1px 3px 1px rgba(60, 64, 67, 0.15);\n",
              "      fill: #174EA6;\n",
              "    }\n",
              "\n",
              "    .colab-df-buttons div {\n",
              "      margin-bottom: 4px;\n",
              "    }\n",
              "\n",
              "    [theme=dark] .colab-df-convert {\n",
              "      background-color: #3B4455;\n",
              "      fill: #D2E3FC;\n",
              "    }\n",
              "\n",
              "    [theme=dark] .colab-df-convert:hover {\n",
              "      background-color: #434B5C;\n",
              "      box-shadow: 0px 1px 3px 1px rgba(0, 0, 0, 0.15);\n",
              "      filter: drop-shadow(0px 1px 2px rgba(0, 0, 0, 0.3));\n",
              "      fill: #FFFFFF;\n",
              "    }\n",
              "  </style>\n",
              "\n",
              "    <script>\n",
              "      const buttonEl =\n",
              "        document.querySelector('#df-eb40b5ea-a7c2-46d0-9721-a1345193eab1 button.colab-df-convert');\n",
              "      buttonEl.style.display =\n",
              "        google.colab.kernel.accessAllowed ? 'block' : 'none';\n",
              "\n",
              "      async function convertToInteractive(key) {\n",
              "        const element = document.querySelector('#df-eb40b5ea-a7c2-46d0-9721-a1345193eab1');\n",
              "        const dataTable =\n",
              "          await google.colab.kernel.invokeFunction('convertToInteractive',\n",
              "                                                    [key], {});\n",
              "        if (!dataTable) return;\n",
              "\n",
              "        const docLinkHtml = 'Like what you see? Visit the ' +\n",
              "          '<a target=\"_blank\" href=https://colab.research.google.com/notebooks/data_table.ipynb>data table notebook</a>'\n",
              "          + ' to learn more about interactive tables.';\n",
              "        element.innerHTML = '';\n",
              "        dataTable['output_type'] = 'display_data';\n",
              "        await google.colab.output.renderOutput(dataTable, element);\n",
              "        const docLink = document.createElement('div');\n",
              "        docLink.innerHTML = docLinkHtml;\n",
              "        element.appendChild(docLink);\n",
              "      }\n",
              "    </script>\n",
              "  </div>\n",
              "\n",
              "\n",
              "  <div id=\"id_b786b8d8-bdc2-4e9b-85ae-2f8634d61e42\">\n",
              "    <style>\n",
              "      .colab-df-generate {\n",
              "        background-color: #E8F0FE;\n",
              "        border: none;\n",
              "        border-radius: 50%;\n",
              "        cursor: pointer;\n",
              "        display: none;\n",
              "        fill: #1967D2;\n",
              "        height: 32px;\n",
              "        padding: 0 0 0 0;\n",
              "        width: 32px;\n",
              "      }\n",
              "\n",
              "      .colab-df-generate:hover {\n",
              "        background-color: #E2EBFA;\n",
              "        box-shadow: 0px 1px 2px rgba(60, 64, 67, 0.3), 0px 1px 3px 1px rgba(60, 64, 67, 0.15);\n",
              "        fill: #174EA6;\n",
              "      }\n",
              "\n",
              "      [theme=dark] .colab-df-generate {\n",
              "        background-color: #3B4455;\n",
              "        fill: #D2E3FC;\n",
              "      }\n",
              "\n",
              "      [theme=dark] .colab-df-generate:hover {\n",
              "        background-color: #434B5C;\n",
              "        box-shadow: 0px 1px 3px 1px rgba(0, 0, 0, 0.15);\n",
              "        filter: drop-shadow(0px 1px 2px rgba(0, 0, 0, 0.3));\n",
              "        fill: #FFFFFF;\n",
              "      }\n",
              "    </style>\n",
              "    <button class=\"colab-df-generate\" onclick=\"generateWithVariable('country_dataset')\"\n",
              "            title=\"Generate code using this dataframe.\"\n",
              "            style=\"display:none;\">\n",
              "\n",
              "  <svg xmlns=\"http://www.w3.org/2000/svg\" height=\"24px\"viewBox=\"0 0 24 24\"\n",
              "       width=\"24px\">\n",
              "    <path d=\"M7,19H8.4L18.45,9,17,7.55,7,17.6ZM5,21V16.75L18.45,3.32a2,2,0,0,1,2.83,0l1.4,1.43a1.91,1.91,0,0,1,.58,1.4,1.91,1.91,0,0,1-.58,1.4L9.25,21ZM18.45,9,17,7.55Zm-12,3A5.31,5.31,0,0,0,4.9,8.1,5.31,5.31,0,0,0,1,6.5,5.31,5.31,0,0,0,4.9,4.9,5.31,5.31,0,0,0,6.5,1,5.31,5.31,0,0,0,8.1,4.9,5.31,5.31,0,0,0,12,6.5,5.46,5.46,0,0,0,6.5,12Z\"/>\n",
              "  </svg>\n",
              "    </button>\n",
              "    <script>\n",
              "      (() => {\n",
              "      const buttonEl =\n",
              "        document.querySelector('#id_b786b8d8-bdc2-4e9b-85ae-2f8634d61e42 button.colab-df-generate');\n",
              "      buttonEl.style.display =\n",
              "        google.colab.kernel.accessAllowed ? 'block' : 'none';\n",
              "\n",
              "      buttonEl.onclick = () => {\n",
              "        google.colab.notebook.generateWithVariable('country_dataset');\n",
              "      }\n",
              "      })();\n",
              "    </script>\n",
              "  </div>\n",
              "\n",
              "    </div>\n",
              "  </div>\n"
            ],
            "application/vnd.google.colaboratory.intrinsic+json": {
              "type": "dataframe",
              "variable_name": "country_dataset",
              "summary": "{\n  \"name\": \"country_dataset\",\n  \"rows\": 1,\n  \"fields\": [\n    {\n      \"column\": \"Region\",\n      \"properties\": {\n        \"dtype\": \"string\",\n        \"num_unique_values\": 1,\n        \"samples\": [\n          \"Africa\"\n        ],\n        \"semantic_type\": \"\",\n        \"description\": \"\"\n      }\n    },\n    {\n      \"column\": \"Country\",\n      \"properties\": {\n        \"dtype\": \"string\",\n        \"num_unique_values\": 1,\n        \"samples\": [\n          \"Algeria\"\n        ],\n        \"semantic_type\": \"\",\n        \"description\": \"\"\n      }\n    },\n    {\n      \"column\": \"Country_URL\",\n      \"properties\": {\n        \"dtype\": \"string\",\n        \"num_unique_values\": 1,\n        \"samples\": [\n          \"https://www.tasteatlas.com/algeria?ref=main-menu\"\n        ],\n        \"semantic_type\": \"\",\n        \"description\": \"\"\n      }\n    },\n    {\n      \"column\": \"UID\",\n      \"properties\": {\n        \"dtype\": \"string\",\n        \"num_unique_values\": 1,\n        \"samples\": [\n          \"623dc4e163f046e39f3b758613458e6b\"\n        ],\n        \"semantic_type\": \"\",\n        \"description\": \"\"\n      }\n    }\n  ]\n}"
            }
          },
          "metadata": {},
          "execution_count": 18
        }
      ]
    },
    {
      "cell_type": "code",
      "source": [
        "#### Esta roto el loop de clickar el show more btn"
      ],
      "metadata": {
        "id": "KWhIzJEHJY7c"
      },
      "execution_count": null,
      "outputs": []
    },
    {
      "cell_type": "code",
      "source": [
        "country_contents = []\n",
        "\n",
        "for index, country in country_dataset.iterrows():\n",
        "  country_id = country[3]\n",
        "  country_link = country[2]\n",
        "\n",
        "  print(country[1])\n",
        "\n",
        "  driver.get(country_link)\n",
        "\n",
        "  #containers = driver.find_elements(By.XPATH, '//div[@class=\"search-results__whattoeat-content ta-parent-section ng-scope\"]')\n",
        "\n",
        "\n",
        "  try:\n",
        "    containers = WebDriverWait(driver, 4).until(\n",
        "            EC.presence_of_all_elements_located((By.XPATH, '//div[@class=\"search-results__whattoeat-content ta-parent-section ng-scope\"]'))\n",
        "        )\n",
        "  except:\n",
        "    print(\"Timed out waiting for containers to load\")\n",
        "    continue\n",
        "\n",
        "  # Get all containers\n",
        "  for container in containers:\n",
        "      # Find the contents within the container (using . in the Xpath to get only the data from the container)\n",
        "      container_name = container.find_elements(By.XPATH, './/h2[@class=\"h2 h2--lowercase h2--muli h2--large search-results__whattoeat-content-title ng-binding ng-scope\"]')[0].text.strip()\n",
        "      container_name = ' '.join(container_name.split(' ')[3:])\n",
        "\n",
        "\n",
        "      print(container_name)\n",
        "\n",
        "      # Clicking the \"VIEW MORE\" button like there is no tomorrow\n",
        "      while True:\n",
        "          try:\n",
        "            view_more_button = WebDriverWait(container, 10).until(\n",
        "                    EC.element_to_be_clickable((By.XPATH, '//button[contains(@class, \"btn--underscore\") and contains(text(), \"VIEW MORE\")]'))\n",
        "                )\n",
        "\n",
        "            view_more_button.click()\n",
        "            print('click show moreeeee')\n",
        "          except:\n",
        "            break\n",
        "\n",
        "      # Getting the contents in the container to iterate\n",
        "      contents = container.find_elements(By.XPATH, './/h2[@class=\"h2 h2--bold h2--lowercase\"]/a[@class=\"ng-binding\"]')\n",
        "\n",
        "      for content in contents:\n",
        "          content_text = content.text\n",
        "          content_url = content.get_attribute('href')\n",
        "\n",
        "          # Print the contents for debugging\n",
        "          print(f\"{container_name} - {content_text}: {content_url}\")\n",
        "\n",
        "          country_contents.append({'country id': country_id,\n",
        "                                  'type': container_name,\n",
        "                                  'name': content_text,\n",
        "                                  'url': content_url,\n",
        "                                   })\n",
        "\n",
        "country_contents_dataset = pd.DataFrame(country_contents)\n",
        "country_contents_dataset['UID'] = country_contents_dataset.apply(lambda row: generate_uid(row), axis=1)"
      ],
      "metadata": {
        "id": "spkk0QYD_U0g"
      },
      "execution_count": null,
      "outputs": []
    },
    {
      "cell_type": "code",
      "source": [
        "driver.get('https://www.tasteatlas.com/algeria?ref=main-menu')\n",
        "\n",
        "try:\n",
        "  containers = WebDriverWait(driver, 4).until( EC.presence_of_all_elements_located((By.XPATH, '//div[@class=\"search-results__whattoeat-content ta-parent-section ng-scope\"]')) )\n",
        "except:\n",
        "  print(\"Timed out waiting for containers to load\")"
      ],
      "metadata": {
        "id": "_KEYlb-YyJph"
      },
      "execution_count": null,
      "outputs": []
    },
    {
      "cell_type": "code",
      "source": [
        "for container in containers[:1]:\n",
        "      # Find the contents within the container (using . in the Xpath to get only the data from the container)\n",
        "      container_name = container.find_elements(By.XPATH, './/h2[@class=\"h2 h2--lowercase h2--muli h2--large search-results__whattoeat-content-title ng-binding ng-scope\"]')[0].text.strip()\n",
        "      container_name = ' '.join(container_name.split(' ')[3:])\n",
        "      print(container_name)\n",
        "      time.sleep(5)\n",
        "\n",
        "      #view_more_button = container.find_elements(By.XPATH, '//button[contains(@class, \"btn--underscore\") and contains(text(), \"VIEW MORE\")]')\n",
        "      #view_more_button = container.find_element(By.XPATH, './/div[contains(@class, \"btn btn--underscore btn--nopadding btn--no-bgcolor btn--black-text btn--extrabold\")]')\n",
        "      #view_more_button = container.find_element(By.XPATH, './/div[@class=\"search-results__view-more ng-scope\"]')\n",
        "      #view_more_button = WebDriverWait(container, 10).until( EC.element_to_be_clickable((By.XPATH, '//button[contains(@class, \"btn--underscore\") and contains(text(), \"VIEW MORE\")]')) )\n",
        "\n",
        "      iteration = 0\n",
        "      while True:\n",
        "        try:\n",
        "          view_more_button = WebDriverWait(container, 10).until( EC.element_to_be_clickable((By.XPATH, './/div[@class=\"search-results__view-more ng-scope\"]')) )\n",
        "          iteration += 1\n",
        "          view_more_button.click()\n",
        "          print(f'click show moreeeee {iteration}')\n",
        "          time.sleep(3)\n",
        "\n",
        "        except:\n",
        "          break\n",
        "\n",
        "      ### Getting the contents in the container to iterate\n",
        "      contents = container.find_elements(By.XPATH, './/h2[@class=\"h2 h2--bold h2--lowercase\"]/a[@class=\"ng-binding\"]')\n",
        "      for content in contents:\n",
        "          content_text = content.text\n",
        "          content_url = content.get_attribute('href')\n",
        "\n",
        "          print(f\"{container_name} - {content_text}: {content_url}\")"
      ],
      "metadata": {
        "colab": {
          "base_uri": "https://localhost:8080/"
        },
        "id": "qw5PWnAJ2vXy",
        "outputId": "86fb6d2a-40bc-46b8-b4b1-6a3cb73abf95"
      },
      "execution_count": null,
      "outputs": [
        {
          "output_type": "stream",
          "name": "stdout",
          "text": [
            "dishes\n",
            "click show moreeeee 1\n",
            "dishes - Couscous (dish): https://www.tasteatlas.com/Couscous-algeria\n",
            "dishes - Mahjouba: https://www.tasteatlas.com/mahjouba\n",
            "dishes - Harira: https://www.tasteatlas.com/harira-algeria\n",
            "dishes - Chakhchoukha: https://www.tasteatlas.com/chakhchoukha\n",
            "dishes - Rechta: https://www.tasteatlas.com/rechta\n",
            "dishes - Chorba frik: https://www.tasteatlas.com/chorba-frik\n",
            "dishes - Loubia: https://www.tasteatlas.com/loubia-algeria\n",
            "dishes - Khfaf: https://www.tasteatlas.com/khfaf\n",
            "dishes - Baghrir: https://www.tasteatlas.com/baghrir-algeria\n",
            "dishes - Tajine zitoune: https://www.tasteatlas.com/tajine-zitoune\n",
            "dishes - Msemen: https://www.tasteatlas.com/msemen-algeria\n",
            "dishes - Makroud el louse: https://www.tasteatlas.com/makroud-el-louse\n",
            "dishes - Garantita: https://www.tasteatlas.com/garantita\n",
            "dishes - Lham lahlou: https://www.tasteatlas.com/lham-lahlou\n",
            "dishes - Zalabia: https://www.tasteatlas.com/zalabia-algeria\n",
            "dishes - Mkhabez: https://www.tasteatlas.com/mkhabez\n",
            "dishes - Tamina: https://www.tasteatlas.com/tamina\n",
            "dishes - Kalb-el-louz: https://www.tasteatlas.com/kalb-el-louz\n",
            "dishes - Mesfouf: https://www.tasteatlas.com/mesfouf\n",
            "dishes - Mbesses: https://www.tasteatlas.com/mbesses\n",
            "dishes - Shakshouka: https://www.tasteatlas.com/shakshouka-algeria\n",
            "dishes - Kesra: https://www.tasteatlas.com/kesra\n",
            "dishes - Créponné: https://www.tasteatlas.com/creponne\n",
            "dishes - Chorba beïda: https://www.tasteatlas.com/chorba-beida\n"
          ]
        }
      ]
    }
  ]
}