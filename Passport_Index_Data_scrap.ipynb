{
  "nbformat": 4,
  "nbformat_minor": 0,
  "metadata": {
    "colab": {
      "provenance": [],
      "authorship_tag": "ABX9TyM3sUTjo0U9mWeETtHKuMML"
    },
    "kernelspec": {
      "name": "python3",
      "display_name": "Python 3"
    },
    "language_info": {
      "name": "python"
    }
  },
  "cells": [
    {
      "cell_type": "markdown",
      "source": [
        "## Preparation"
      ],
      "metadata": {
        "id": "x9lz4XIzQoEH"
      }
    },
    {
      "cell_type": "code",
      "execution_count": 1,
      "metadata": {
        "id": "MoHDosJmQVlw"
      },
      "outputs": [],
      "source": [
        "# To update ubuntu to be able to run apt install correctly\n",
        "!apt-get update &> /dev/null"
      ]
    },
    {
      "cell_type": "code",
      "source": [
        "# Install chromium browser and web driver\n",
        "!apt-get install chromium-browser &> /dev/null\n",
        "!apt install chromium-chromedriver &> /dev/null"
      ],
      "metadata": {
        "id": "zqnwPJqdQgJN"
      },
      "execution_count": 2,
      "outputs": []
    },
    {
      "cell_type": "code",
      "source": [
        "# Install python libraries\n",
        "!pip install selenium &> /dev/null"
      ],
      "metadata": {
        "id": "UKlRBZjsQhWJ"
      },
      "execution_count": 3,
      "outputs": []
    },
    {
      "cell_type": "code",
      "source": [
        "import os\n",
        "import time\n",
        "import uuid\n",
        "import pandas as pd\n",
        "from google.colab import files\n",
        "from google.colab import drive\n",
        "from selenium import webdriver\n",
        "from selenium.webdriver.common.by import By\n",
        "from selenium.webdriver.support.ui import WebDriverWait\n",
        "from selenium.webdriver.support import expected_conditions as EC\n",
        "from selenium.webdriver.common.action_chains import ActionChains\n",
        "from selenium.common.exceptions import NoSuchElementException\n",
        "\n",
        "drive.mount('/content/drive')"
      ],
      "metadata": {
        "colab": {
          "base_uri": "https://localhost:8080/"
        },
        "id": "m8orec7UQjpu",
        "outputId": "909069cc-1182-46b4-fb95-569cfeaa5ee5"
      },
      "execution_count": 4,
      "outputs": [
        {
          "output_type": "stream",
          "name": "stdout",
          "text": [
            "Drive already mounted at /content/drive; to attempt to forcibly remount, call drive.mount(\"/content/drive\", force_remount=True).\n"
          ]
        }
      ]
    },
    {
      "cell_type": "code",
      "source": [
        "# Options to disable chromium functionalities\n",
        "options = webdriver.ChromeOptions()\n",
        "options.add_argument('--verbose')\n",
        "options.add_argument('--no-sandbox')\n",
        "options.add_argument('--headless')\n",
        "options.add_argument('--disable-gpu')\n",
        "options.add_argument('--window-size=1920, 1200')\n",
        "options.add_argument('--disable-dev-shm-usage')\n",
        "driver = webdriver.Chrome(options = options)"
      ],
      "metadata": {
        "id": "f28Aj-90QnPL"
      },
      "execution_count": 13,
      "outputs": []
    },
    {
      "cell_type": "code",
      "source": [
        "# \"physically\" scroll to cretain attribute within a website\n",
        "def scroll_to_element(driver, element):\n",
        "    actions = ActionChains(driver)\n",
        "    actions.move_to_element(element).perform()"
      ],
      "metadata": {
        "id": "aVkV7Vbd5dov"
      },
      "execution_count": 12,
      "outputs": []
    },
    {
      "cell_type": "markdown",
      "source": [
        "## Data scrap"
      ],
      "metadata": {
        "id": "pFAaAcOzQuTb"
      }
    },
    {
      "cell_type": "code",
      "source": [
        "## Frist making a dataframe with the list of countries + country link to avoid \"stale selenium stuff\"\n",
        "home_link = \"https://visaindex.com/\"\n",
        "driver.get(home_link)\n",
        "time.sleep(2)\n",
        "\n",
        "countries_list = []\n",
        "countries_list_sel = driver.find_elements(By.XPATH, '//div[@class=\"list-group list-group-flush\"]//div[@class=\"countryContainer\"]//div[@class=\"countryElement\"]')\n",
        "\n",
        "for country in countries_list_sel:\n",
        "  country_name = country.text\n",
        "  country_link = country.find_element(By.XPATH, './/a').get_attribute('href')\n",
        "\n",
        "  countries_list.append({\n",
        "      'country_name': country_name,\n",
        "      'country_link': country_link\n",
        "  })\n",
        "\n",
        "passport_index = []\n",
        "\n",
        "## Then making the real data scrap\n",
        "for country in countries_list:\n",
        "  time.sleep(1)\n",
        "  country_name = country['country_name']\n",
        "  country_link = country['country_link']\n",
        "\n",
        "  print(country_name,\"=\"*100, country_link)\n",
        "\n",
        "  driver.get(country_link)\n",
        "  time.sleep(1)\n",
        "\n",
        "  passport_description = driver.find_element(By.XPATH, '//div[@class=\"topContainer\"]//div[@class=\"d-flex mainTopContainer\"]/p').text\n",
        "  passport_image = driver.find_element(By.XPATH, '//div[@class=\"topContainer\"]//div[@class=\"passportImage\"]/img').get_attribute('src')\n",
        "\n",
        "  clearance_container = driver.find_elements(By.XPATH, '//div[@class=\"row justify-content-lg-center requirementsLists\"]/div[contains(@class, \"countries-col\")]')\n",
        "\n",
        "  for clearance_box in clearance_container:\n",
        "    # Find the clearance type title\n",
        "    clearance_type = clearance_box.find_element(By.XPATH, './/div[@class=\"col-title text-secondary font-weight-bold display-8\"]')\n",
        "\n",
        "    # Find the container with the countries\n",
        "    countries = clearance_box.find_element(By.XPATH, './/div[@class=\"list-group borderLight bg-white\"]')\n",
        "    countries = countries.find_elements(By.XPATH, './/a')\n",
        "\n",
        "    for country_detail in countries:\n",
        "        print(clearance_type.text, \"=\"*20,country_detail.text, passport_image)\n",
        "\n",
        "        passport_index.append({\n",
        "            'passport': country_name,\n",
        "            'passport_link': country_link,\n",
        "            'passport_description': passport_description,\n",
        "            'passport_image': passport_image,\n",
        "            'target_country': country_detail.text,\n",
        "            'clearance_type': clearance_type.text\n",
        "        })\n",
        "\n",
        "\n",
        "passport_index_dataset = pd.DataFrame(passport_index)\n",
        "filename = 'passport_index'\n",
        "passport_index_dataset.to_json(f'/content/drive/My Drive/data scrap/passport index/{filename}.json', orient='records', lines=True)\n",
        "passport_index_dataset.to_csv(f'/content/drive/My Drive/data scrap/passport index/{filename}.csv', index=False)\n",
        "passport_index_dataset.to_excel(f'/content/drive/My Drive/data scrap/passport index/{filename}.xlsx', index=False)\n",
        "\n",
        "print(\"=\"*150)\n",
        "print(\"=\"*150,\"FILES SAVED TO G-DRIVE\")\n",
        "print(\"=\"*150)"
      ],
      "metadata": {
        "id": "Ae03534U7gYi"
      },
      "execution_count": null,
      "outputs": []
    }
  ]
}